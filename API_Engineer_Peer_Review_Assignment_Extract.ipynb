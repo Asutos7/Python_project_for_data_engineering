{
 "cells": [
  {
   "cell_type": "markdown",
   "metadata": {},
   "source": [
    "<p style=\"text-align:center\">\n",
    "    <a href=\"https://skills.network/?utm_medium=Exinfluencer&utm_source=Exinfluencer&utm_content=000026UJ&utm_term=10006555&utm_id=NA-SkillsNetwork-Channel-SkillsNetworkCoursesIBMDeveloperSkillsNetworkPY0221ENSkillsNetwork899-2023-01-01\">\n",
    "    <img src=\"https://cf-courses-data.s3.us.cloud-object-storage.appdomain.cloud/assets/logos/SN_web_lightmode.png\" width=\"200\" alt=\"Skills Network Logo\"  />\n",
    "    </a>\n",
    "</p>\n"
   ]
  },
  {
   "cell_type": "markdown",
   "metadata": {},
   "source": [
    "# Peer Review Assignment - Data Engineer - Extract API Data\n"
   ]
  },
  {
   "cell_type": "markdown",
   "metadata": {},
   "source": [
    "Estimated time needed: **20** minutes\n"
   ]
  },
  {
   "cell_type": "markdown",
   "metadata": {},
   "source": [
    "## Objectives\n",
    "\n",
    "In this part you will:\n",
    "\n",
    "-   Collect exchange rate data using an API\n",
    "-   Store the data as a CSV\n"
   ]
  },
  {
   "cell_type": "markdown",
   "metadata": {},
   "source": [
    "For this lab, we are going to be using Python and several Python libraries. Some of these libraries might be installed in your lab environment or in SN Labs. Others may need to be installed by you. The cells below will install these libraries when executed.\n"
   ]
  },
  {
   "cell_type": "code",
   "execution_count": 4,
   "metadata": {
    "tags": []
   },
   "outputs": [
    {
     "name": "stdout",
     "output_type": "stream",
     "text": [
      "Collecting pandas==1.3.3\n",
      "  Downloading pandas-1.3.3.tar.gz (4.7 MB)\n",
      "                                              0.0/4.7 MB ? eta -:--:--\n",
      "                                              0.0/4.7 MB ? eta -:--:--\n",
      "                                              0.1/4.7 MB 991.0 kB/s eta 0:00:05\n",
      "     --                                       0.3/4.7 MB 2.3 MB/s eta 0:00:02\n",
      "     ----                                     0.5/4.7 MB 3.0 MB/s eta 0:00:02\n",
      "     -----                                    0.6/4.7 MB 3.1 MB/s eta 0:00:02\n",
      "     -------                                  0.9/4.7 MB 3.4 MB/s eta 0:00:02\n",
      "     ---------                                1.1/4.7 MB 3.6 MB/s eta 0:00:02\n",
      "     ----------                               1.3/4.7 MB 3.7 MB/s eta 0:00:01\n",
      "     ------------                             1.5/4.7 MB 4.0 MB/s eta 0:00:01\n",
      "     ---------------                          1.8/4.7 MB 4.1 MB/s eta 0:00:01\n",
      "     ----------------                         1.9/4.7 MB 4.0 MB/s eta 0:00:01\n",
      "     -----------------                        2.0/4.7 MB 3.9 MB/s eta 0:00:01\n",
      "     ------------------                       2.2/4.7 MB 3.7 MB/s eta 0:00:01\n",
      "     --------------------                     2.4/4.7 MB 3.8 MB/s eta 0:00:01\n",
      "     ----------------------                   2.6/4.7 MB 3.9 MB/s eta 0:00:01\n",
      "     -----------------------                  2.8/4.7 MB 3.8 MB/s eta 0:00:01\n",
      "     -------------------------                3.0/4.7 MB 3.8 MB/s eta 0:00:01\n",
      "     --------------------------               3.2/4.7 MB 3.9 MB/s eta 0:00:01\n",
      "     ----------------------------             3.4/4.7 MB 3.9 MB/s eta 0:00:01\n",
      "     ----------------------------             3.4/4.7 MB 3.9 MB/s eta 0:00:01\n",
      "     ----------------------------             3.4/4.7 MB 3.6 MB/s eta 0:00:01\n",
      "     -----------------------------            3.5/4.7 MB 3.5 MB/s eta 0:00:01\n",
      "     -------------------------------          3.7/4.7 MB 3.5 MB/s eta 0:00:01\n",
      "     --------------------------------         3.8/4.7 MB 3.5 MB/s eta 0:00:01\n",
      "     ----------------------------------       4.1/4.7 MB 3.5 MB/s eta 0:00:01\n",
      "     ------------------------------------     4.3/4.7 MB 3.5 MB/s eta 0:00:01\n",
      "     --------------------------------------   4.5/4.7 MB 3.6 MB/s eta 0:00:01\n",
      "     ---------------------------------------  4.7/4.7 MB 3.7 MB/s eta 0:00:01\n",
      "     ---------------------------------------- 4.7/4.7 MB 3.6 MB/s eta 0:00:00\n",
      "  Installing build dependencies: started\n",
      "  Installing build dependencies: finished with status 'error'\n"
     ]
    },
    {
     "name": "stderr",
     "output_type": "stream",
     "text": [
      "  error: subprocess-exited-with-error\n",
      "  \n",
      "  × pip subprocess to install build dependencies did not run successfully.\n",
      "  │ exit code: 1\n",
      "  ╰─> [305 lines of output]\n",
      "      Ignoring numpy: markers 'python_version == \"3.7\" and (platform_machine != \"arm64\" or platform_system != \"Darwin\") and platform_machine != \"aarch64\"' don't match your environment\n",
      "      Ignoring numpy: markers 'python_version == \"3.8\" and (platform_machine != \"arm64\" or platform_system != \"Darwin\") and platform_machine != \"aarch64\"' don't match your environment\n",
      "      Ignoring numpy: markers 'python_version == \"3.7\" and platform_machine == \"aarch64\"' don't match your environment\n",
      "      Ignoring numpy: markers 'python_version == \"3.8\" and platform_machine == \"aarch64\"' don't match your environment\n",
      "      Ignoring numpy: markers 'python_version == \"3.8\" and platform_machine == \"arm64\" and platform_system == \"Darwin\"' don't match your environment\n",
      "      Ignoring numpy: markers 'python_version == \"3.9\" and platform_machine == \"arm64\" and platform_system == \"Darwin\"' don't match your environment\n",
      "      Collecting setuptools>=51.0.0\n",
      "        Downloading setuptools-68.2.2-py3-none-any.whl (807 kB)\n",
      "                                                    0.0/807.9 kB ? eta -:--:--\n",
      "                                                    10.2/807.9 kB ? eta -:--:--\n",
      "           -                                     41.0/807.9 kB 487.6 kB/s eta 0:00:02\n",
      "           ------                                 143.4/807.9 kB 1.1 MB/s eta 0:00:01\n",
      "           ------------                           256.0/807.9 kB 1.6 MB/s eta 0:00:01\n",
      "           ----------------                       358.4/807.9 kB 1.6 MB/s eta 0:00:01\n",
      "           ---------------------                  450.6/807.9 kB 1.7 MB/s eta 0:00:01\n",
      "           ---------------------------------      706.6/807.9 kB 2.2 MB/s eta 0:00:01\n",
      "           -------------------------------------- 807.9/807.9 kB 2.3 MB/s eta 0:00:00\n",
      "      Collecting wheel\n",
      "        Downloading wheel-0.41.2-py3-none-any.whl (64 kB)\n",
      "                                                    0.0/64.8 kB ? eta -:--:--\n",
      "           ---------------------------------------- 64.8/64.8 kB 3.6 MB/s eta 0:00:00\n",
      "      Collecting Cython<3,>=0.29.21\n",
      "        Downloading Cython-0.29.36-py2.py3-none-any.whl (988 kB)\n",
      "                                                    0.0/988.3 kB ? eta -:--:--\n",
      "           ----                                   122.9/988.3 kB 3.6 MB/s eta 0:00:01\n",
      "           ------------                           337.9/988.3 kB 5.2 MB/s eta 0:00:01\n",
      "           -------------------                    501.8/988.3 kB 3.9 MB/s eta 0:00:01\n",
      "           --------------------------             686.1/988.3 kB 4.3 MB/s eta 0:00:01\n",
      "           -------------------------------------  983.0/988.3 kB 4.4 MB/s eta 0:00:01\n",
      "           -------------------------------------- 988.3/988.3 kB 4.2 MB/s eta 0:00:00\n",
      "      Collecting numpy==1.19.3\n",
      "        Downloading numpy-1.19.3.zip (7.3 MB)\n",
      "                                                    0.0/7.3 MB ? eta -:--:--\n",
      "                                                    0.1/7.3 MB 3.6 MB/s eta 0:00:02\n",
      "           -                                        0.3/7.3 MB 4.1 MB/s eta 0:00:02\n",
      "           ---                                      0.6/7.3 MB 4.7 MB/s eta 0:00:02\n",
      "           ----                                     0.9/7.3 MB 5.1 MB/s eta 0:00:02\n",
      "           ------                                   1.1/7.3 MB 5.0 MB/s eta 0:00:02\n",
      "           -------                                  1.4/7.3 MB 5.2 MB/s eta 0:00:02\n",
      "           --------                                 1.6/7.3 MB 5.0 MB/s eta 0:00:02\n",
      "           ---------                                1.8/7.3 MB 4.8 MB/s eta 0:00:02\n",
      "           ----------                               2.0/7.3 MB 4.9 MB/s eta 0:00:02\n",
      "           -----------                              2.1/7.3 MB 4.6 MB/s eta 0:00:02\n",
      "           -----------                              2.1/7.3 MB 4.6 MB/s eta 0:00:02\n",
      "           ------------                             2.3/7.3 MB 4.1 MB/s eta 0:00:02\n",
      "           -------------                            2.5/7.3 MB 4.2 MB/s eta 0:00:02\n",
      "           --------------                           2.6/7.3 MB 4.1 MB/s eta 0:00:02\n",
      "           ---------------                          2.8/7.3 MB 4.1 MB/s eta 0:00:02\n",
      "           ----------------                         3.0/7.3 MB 4.1 MB/s eta 0:00:02\n",
      "           ------------------                       3.3/7.3 MB 4.2 MB/s eta 0:00:01\n",
      "           ------------------                       3.5/7.3 MB 4.1 MB/s eta 0:00:01\n",
      "           --------------------                     3.7/7.3 MB 4.2 MB/s eta 0:00:01\n",
      "           --------------------                     3.8/7.3 MB 4.2 MB/s eta 0:00:01\n",
      "           ---------------------                    3.9/7.3 MB 4.1 MB/s eta 0:00:01\n",
      "           ---------------------                    3.9/7.3 MB 4.1 MB/s eta 0:00:01\n",
      "           ----------------------                   4.1/7.3 MB 3.8 MB/s eta 0:00:01\n",
      "           -----------------------                  4.2/7.3 MB 3.8 MB/s eta 0:00:01\n",
      "           ------------------------                 4.4/7.3 MB 3.8 MB/s eta 0:00:01\n",
      "           ------------------------                 4.5/7.3 MB 3.8 MB/s eta 0:00:01\n",
      "           --------------------------               4.8/7.3 MB 3.8 MB/s eta 0:00:01\n",
      "           ---------------------------              5.0/7.3 MB 3.8 MB/s eta 0:00:01\n",
      "           ----------------------------             5.2/7.3 MB 3.8 MB/s eta 0:00:01\n",
      "           -----------------------------            5.4/7.3 MB 3.8 MB/s eta 0:00:01\n",
      "           ------------------------------           5.6/7.3 MB 3.9 MB/s eta 0:00:01\n",
      "           -------------------------------          5.7/7.3 MB 3.8 MB/s eta 0:00:01\n",
      "           --------------------------------         6.0/7.3 MB 3.9 MB/s eta 0:00:01\n",
      "           ---------------------------------        6.1/7.3 MB 3.8 MB/s eta 0:00:01\n",
      "           ----------------------------------       6.3/7.3 MB 3.9 MB/s eta 0:00:01\n",
      "           -----------------------------------      6.6/7.3 MB 3.9 MB/s eta 0:00:01\n",
      "           -------------------------------------    6.8/7.3 MB 3.9 MB/s eta 0:00:01\n",
      "           --------------------------------------   7.0/7.3 MB 3.9 MB/s eta 0:00:01\n",
      "           ---------------------------------------  7.2/7.3 MB 3.9 MB/s eta 0:00:01\n",
      "           ---------------------------------------  7.3/7.3 MB 3.9 MB/s eta 0:00:01\n",
      "           ---------------------------------------- 7.3/7.3 MB 3.8 MB/s eta 0:00:00\n",
      "        Installing build dependencies: started\n",
      "        Installing build dependencies: finished with status 'done'\n",
      "        Getting requirements to build wheel: started\n",
      "        Getting requirements to build wheel: finished with status 'done'\n",
      "        Preparing metadata (pyproject.toml): started\n",
      "        Preparing metadata (pyproject.toml): finished with status 'error'\n",
      "        error: subprocess-exited-with-error\n",
      "      \n",
      "        × Preparing metadata (pyproject.toml) did not run successfully.\n",
      "        │ exit code: 1\n",
      "        ╰─> [210 lines of output]\n",
      "            setup.py:67: RuntimeWarning: NumPy 1.19.3 may not yet support Python 3.11.\n",
      "              warnings.warn(\n",
      "            Running from numpy source directory.\n",
      "            setup.py:480: UserWarning: Unrecognized setuptools command, proceeding with generating Cython sources and expanding templates\n",
      "              run_build = parse_setuppy_commands()\n",
      "            Cythonizing sources\n",
      "            Processing numpy/random\\_bounded_integers.pxd.in\n",
      "            Processing numpy/random\\bit_generator.pyx\n",
      "            Processing numpy/random\\mtrand.pyx\n",
      "            Processing numpy/random\\_bounded_integers.pyx.in\n",
      "            Processing numpy/random\\_common.pyx\n",
      "            Processing numpy/random\\_generator.pyx\n",
      "            Processing numpy/random\\_mt19937.pyx\n",
      "            Processing numpy/random\\_pcg64.pyx\n",
      "            Processing numpy/random\\_philox.pyx\n",
      "            Processing numpy/random\\_sfc64.pyx\n",
      "            blas_opt_info:\n",
      "            blas_mkl_info:\n",
      "            No module named 'numpy.distutils._msvccompiler' in numpy.distutils; trying from distutils\n",
      "            customize MSVCCompiler\n",
      "              libraries mkl_rt not found in ['C:\\\\Users\\\\Asutos\\\\anaconda3\\\\envs\\\\tuto\\\\lib', 'C:\\\\', 'C:\\\\Users\\\\Asutos\\\\anaconda3\\\\envs\\\\tuto\\\\libs', 'C:\\\\Users\\\\Asutos\\\\anaconda3\\\\Library\\\\lib']\n",
      "              NOT AVAILABLE\n",
      "      \n",
      "            blis_info:\n",
      "              libraries blis not found in ['C:\\\\Users\\\\Asutos\\\\anaconda3\\\\envs\\\\tuto\\\\lib', 'C:\\\\', 'C:\\\\Users\\\\Asutos\\\\anaconda3\\\\envs\\\\tuto\\\\libs', 'C:\\\\Users\\\\Asutos\\\\anaconda3\\\\Library\\\\lib']\n",
      "              NOT AVAILABLE\n",
      "      \n",
      "            openblas_info:\n",
      "              libraries openblas not found in ['C:\\\\Users\\\\Asutos\\\\anaconda3\\\\envs\\\\tuto\\\\lib', 'C:\\\\', 'C:\\\\Users\\\\Asutos\\\\anaconda3\\\\envs\\\\tuto\\\\libs', 'C:\\\\Users\\\\Asutos\\\\anaconda3\\\\Library\\\\lib']\n",
      "            get_default_fcompiler: matching types: '['gnu', 'intelv', 'absoft', 'compaqv', 'intelev', 'gnu95', 'g95', 'intelvem', 'intelem', 'flang']'\n",
      "            customize GnuFCompiler\n",
      "            Could not locate executable g77\n",
      "            Could not locate executable f77\n",
      "            customize IntelVisualFCompiler\n",
      "            Could not locate executable ifort\n",
      "            Could not locate executable ifl\n",
      "            customize AbsoftFCompiler\n",
      "            Could not locate executable f90\n",
      "            customize CompaqVisualFCompiler\n",
      "            Could not locate executable DF\n",
      "            customize IntelItaniumVisualFCompiler\n",
      "            Could not locate executable efl\n",
      "            customize Gnu95FCompiler\n",
      "            Could not locate executable gfortran\n",
      "            Could not locate executable f95\n",
      "            customize G95FCompiler\n",
      "            Could not locate executable g95\n",
      "            customize IntelEM64VisualFCompiler\n",
      "            customize IntelEM64TFCompiler\n",
      "            Could not locate executable efort\n",
      "            Could not locate executable efc\n",
      "            customize PGroupFlangCompiler\n",
      "            Could not locate executable flang\n",
      "            don't know how to compile Fortran code on platform 'nt'\n",
      "              NOT AVAILABLE\n",
      "      \n",
      "            atlas_3_10_blas_threads_info:\n",
      "            Setting PTATLAS=ATLAS\n",
      "              libraries tatlas not found in ['C:\\\\Users\\\\Asutos\\\\anaconda3\\\\envs\\\\tuto\\\\lib', 'C:\\\\', 'C:\\\\Users\\\\Asutos\\\\anaconda3\\\\envs\\\\tuto\\\\libs', 'C:\\\\Users\\\\Asutos\\\\anaconda3\\\\Library\\\\lib']\n",
      "              NOT AVAILABLE\n",
      "      \n",
      "            atlas_3_10_blas_info:\n",
      "              libraries satlas not found in ['C:\\\\Users\\\\Asutos\\\\anaconda3\\\\envs\\\\tuto\\\\lib', 'C:\\\\', 'C:\\\\Users\\\\Asutos\\\\anaconda3\\\\envs\\\\tuto\\\\libs', 'C:\\\\Users\\\\Asutos\\\\anaconda3\\\\Library\\\\lib']\n",
      "              NOT AVAILABLE\n",
      "      \n",
      "            atlas_blas_threads_info:\n",
      "            Setting PTATLAS=ATLAS\n",
      "              libraries ptf77blas,ptcblas,atlas not found in ['C:\\\\Users\\\\Asutos\\\\anaconda3\\\\envs\\\\tuto\\\\lib', 'C:\\\\', 'C:\\\\Users\\\\Asutos\\\\anaconda3\\\\envs\\\\tuto\\\\libs', 'C:\\\\Users\\\\Asutos\\\\anaconda3\\\\Library\\\\lib']\n",
      "              NOT AVAILABLE\n",
      "      \n",
      "            atlas_blas_info:\n",
      "              libraries f77blas,cblas,atlas not found in ['C:\\\\Users\\\\Asutos\\\\anaconda3\\\\envs\\\\tuto\\\\lib', 'C:\\\\', 'C:\\\\Users\\\\Asutos\\\\anaconda3\\\\envs\\\\tuto\\\\libs', 'C:\\\\Users\\\\Asutos\\\\anaconda3\\\\Library\\\\lib']\n",
      "              NOT AVAILABLE\n",
      "      \n",
      "            accelerate_info:\n",
      "              NOT AVAILABLE\n",
      "      \n",
      "            C:\\Users\\Asutos\\AppData\\Local\\Temp\\pip-install-1qmhfkvm\\numpy_3c62488a617e439e8bce2ceea9bb2988\\numpy\\distutils\\system_info.py:1914: UserWarning:\n",
      "                Optimized (vendor) Blas libraries are not found.\n",
      "                Falls back to netlib Blas library which has worse performance.\n",
      "                A better performance should be easily gained by switching\n",
      "                Blas library.\n",
      "              if self._calc_info(blas):\n",
      "            blas_info:\n",
      "              libraries blas not found in ['C:\\\\Users\\\\Asutos\\\\anaconda3\\\\envs\\\\tuto\\\\lib', 'C:\\\\', 'C:\\\\Users\\\\Asutos\\\\anaconda3\\\\envs\\\\tuto\\\\libs', 'C:\\\\Users\\\\Asutos\\\\anaconda3\\\\Library\\\\lib']\n",
      "              NOT AVAILABLE\n",
      "      \n",
      "            C:\\Users\\Asutos\\AppData\\Local\\Temp\\pip-install-1qmhfkvm\\numpy_3c62488a617e439e8bce2ceea9bb2988\\numpy\\distutils\\system_info.py:1914: UserWarning:\n",
      "                Blas (http://www.netlib.org/blas/) libraries not found.\n",
      "                Directories to search for the libraries can be specified in the\n",
      "                numpy/distutils/site.cfg file (section [blas]) or by setting\n",
      "                the BLAS environment variable.\n",
      "              if self._calc_info(blas):\n",
      "            blas_src_info:\n",
      "              NOT AVAILABLE\n",
      "      \n",
      "            C:\\Users\\Asutos\\AppData\\Local\\Temp\\pip-install-1qmhfkvm\\numpy_3c62488a617e439e8bce2ceea9bb2988\\numpy\\distutils\\system_info.py:1914: UserWarning:\n",
      "                Blas (http://www.netlib.org/blas/) sources not found.\n",
      "                Directories to search for the sources can be specified in the\n",
      "                numpy/distutils/site.cfg file (section [blas_src]) or by setting\n",
      "                the BLAS_SRC environment variable.\n",
      "              if self._calc_info(blas):\n",
      "              NOT AVAILABLE\n",
      "      \n",
      "            non-existing path in 'numpy\\\\distutils': 'site.cfg'\n",
      "            lapack_opt_info:\n",
      "            lapack_mkl_info:\n",
      "              libraries mkl_rt not found in ['C:\\\\Users\\\\Asutos\\\\anaconda3\\\\envs\\\\tuto\\\\lib', 'C:\\\\', 'C:\\\\Users\\\\Asutos\\\\anaconda3\\\\envs\\\\tuto\\\\libs', 'C:\\\\Users\\\\Asutos\\\\anaconda3\\\\Library\\\\lib']\n",
      "              NOT AVAILABLE\n",
      "      \n",
      "            openblas_lapack_info:\n",
      "              libraries openblas not found in ['C:\\\\Users\\\\Asutos\\\\anaconda3\\\\envs\\\\tuto\\\\lib', 'C:\\\\', 'C:\\\\Users\\\\Asutos\\\\anaconda3\\\\envs\\\\tuto\\\\libs', 'C:\\\\Users\\\\Asutos\\\\anaconda3\\\\Library\\\\lib']\n",
      "              NOT AVAILABLE\n",
      "      \n",
      "            openblas_clapack_info:\n",
      "              libraries openblas,lapack not found in ['C:\\\\Users\\\\Asutos\\\\anaconda3\\\\envs\\\\tuto\\\\lib', 'C:\\\\', 'C:\\\\Users\\\\Asutos\\\\anaconda3\\\\envs\\\\tuto\\\\libs', 'C:\\\\Users\\\\Asutos\\\\anaconda3\\\\Library\\\\lib']\n",
      "              NOT AVAILABLE\n",
      "      \n",
      "            flame_info:\n",
      "              libraries flame not found in ['C:\\\\Users\\\\Asutos\\\\anaconda3\\\\envs\\\\tuto\\\\lib', 'C:\\\\', 'C:\\\\Users\\\\Asutos\\\\anaconda3\\\\envs\\\\tuto\\\\libs', 'C:\\\\Users\\\\Asutos\\\\anaconda3\\\\Library\\\\lib']\n",
      "              NOT AVAILABLE\n",
      "      \n",
      "            atlas_3_10_threads_info:\n",
      "            Setting PTATLAS=ATLAS\n",
      "              libraries lapack_atlas not found in C:\\Users\\Asutos\\anaconda3\\envs\\tuto\\lib\n",
      "              libraries tatlas,tatlas not found in C:\\Users\\Asutos\\anaconda3\\envs\\tuto\\lib\n",
      "              libraries lapack_atlas not found in C:\\\n",
      "              libraries tatlas,tatlas not found in C:\\\n",
      "              libraries lapack_atlas not found in C:\\Users\\Asutos\\anaconda3\\envs\\tuto\\libs\n",
      "              libraries tatlas,tatlas not found in C:\\Users\\Asutos\\anaconda3\\envs\\tuto\\libs\n",
      "              libraries lapack_atlas not found in C:\\Users\\Asutos\\anaconda3\\Library\\lib\n",
      "              libraries tatlas,tatlas not found in C:\\Users\\Asutos\\anaconda3\\Library\\lib\n",
      "            <class 'numpy.distutils.system_info.atlas_3_10_threads_info'>\n",
      "              NOT AVAILABLE\n",
      "      \n",
      "            atlas_3_10_info:\n",
      "              libraries lapack_atlas not found in C:\\Users\\Asutos\\anaconda3\\envs\\tuto\\lib\n",
      "              libraries satlas,satlas not found in C:\\Users\\Asutos\\anaconda3\\envs\\tuto\\lib\n",
      "              libraries lapack_atlas not found in C:\\\n",
      "              libraries satlas,satlas not found in C:\\\n",
      "              libraries lapack_atlas not found in C:\\Users\\Asutos\\anaconda3\\envs\\tuto\\libs\n",
      "              libraries satlas,satlas not found in C:\\Users\\Asutos\\anaconda3\\envs\\tuto\\libs\n",
      "              libraries lapack_atlas not found in C:\\Users\\Asutos\\anaconda3\\Library\\lib\n",
      "              libraries satlas,satlas not found in C:\\Users\\Asutos\\anaconda3\\Library\\lib\n",
      "            <class 'numpy.distutils.system_info.atlas_3_10_info'>\n",
      "              NOT AVAILABLE\n",
      "      \n",
      "            atlas_threads_info:\n",
      "            Setting PTATLAS=ATLAS\n",
      "              libraries lapack_atlas not found in C:\\Users\\Asutos\\anaconda3\\envs\\tuto\\lib\n",
      "              libraries ptf77blas,ptcblas,atlas not found in C:\\Users\\Asutos\\anaconda3\\envs\\tuto\\lib\n",
      "              libraries lapack_atlas not found in C:\\\n",
      "              libraries ptf77blas,ptcblas,atlas not found in C:\\\n",
      "              libraries lapack_atlas not found in C:\\Users\\Asutos\\anaconda3\\envs\\tuto\\libs\n",
      "              libraries ptf77blas,ptcblas,atlas not found in C:\\Users\\Asutos\\anaconda3\\envs\\tuto\\libs\n",
      "              libraries lapack_atlas not found in C:\\Users\\Asutos\\anaconda3\\Library\\lib\n",
      "              libraries ptf77blas,ptcblas,atlas not found in C:\\Users\\Asutos\\anaconda3\\Library\\lib\n",
      "            <class 'numpy.distutils.system_info.atlas_threads_info'>\n",
      "              NOT AVAILABLE\n",
      "      \n",
      "            atlas_info:\n",
      "              libraries lapack_atlas not found in C:\\Users\\Asutos\\anaconda3\\envs\\tuto\\lib\n",
      "              libraries f77blas,cblas,atlas not found in C:\\Users\\Asutos\\anaconda3\\envs\\tuto\\lib\n",
      "              libraries lapack_atlas not found in C:\\\n",
      "              libraries f77blas,cblas,atlas not found in C:\\\n",
      "              libraries lapack_atlas not found in C:\\Users\\Asutos\\anaconda3\\envs\\tuto\\libs\n",
      "              libraries f77blas,cblas,atlas not found in C:\\Users\\Asutos\\anaconda3\\envs\\tuto\\libs\n",
      "              libraries lapack_atlas not found in C:\\Users\\Asutos\\anaconda3\\Library\\lib\n",
      "              libraries f77blas,cblas,atlas not found in C:\\Users\\Asutos\\anaconda3\\Library\\lib\n",
      "            <class 'numpy.distutils.system_info.atlas_info'>\n",
      "              NOT AVAILABLE\n",
      "      \n",
      "            lapack_info:\n",
      "              libraries lapack not found in ['C:\\\\Users\\\\Asutos\\\\anaconda3\\\\envs\\\\tuto\\\\lib', 'C:\\\\', 'C:\\\\Users\\\\Asutos\\\\anaconda3\\\\envs\\\\tuto\\\\libs', 'C:\\\\Users\\\\Asutos\\\\anaconda3\\\\Library\\\\lib']\n",
      "              NOT AVAILABLE\n",
      "      \n",
      "            C:\\Users\\Asutos\\AppData\\Local\\Temp\\pip-install-1qmhfkvm\\numpy_3c62488a617e439e8bce2ceea9bb2988\\numpy\\distutils\\system_info.py:1748: UserWarning:\n",
      "                Lapack (http://www.netlib.org/lapack/) libraries not found.\n",
      "                Directories to search for the libraries can be specified in the\n",
      "                numpy/distutils/site.cfg file (section [lapack]) or by setting\n",
      "                the LAPACK environment variable.\n",
      "              return getattr(self, '_calc_info_{}'.format(name))()\n",
      "            lapack_src_info:\n",
      "              NOT AVAILABLE\n",
      "      \n",
      "            C:\\Users\\Asutos\\AppData\\Local\\Temp\\pip-install-1qmhfkvm\\numpy_3c62488a617e439e8bce2ceea9bb2988\\numpy\\distutils\\system_info.py:1748: UserWarning:\n",
      "                Lapack (http://www.netlib.org/lapack/) sources not found.\n",
      "                Directories to search for the sources can be specified in the\n",
      "                numpy/distutils/site.cfg file (section [lapack_src]) or by setting\n",
      "                the LAPACK_SRC environment variable.\n",
      "              return getattr(self, '_calc_info_{}'.format(name))()\n",
      "              NOT AVAILABLE\n",
      "      \n",
      "            numpy_linalg_lapack_lite:\n",
      "              FOUND:\n",
      "                language = c\n",
      "                define_macros = [('HAVE_BLAS_ILP64', None), ('BLAS_SYMBOL_SUFFIX', '64_')]\n",
      "      \n",
      "            C:\\Users\\Asutos\\AppData\\Local\\Temp\\pip-build-env-zn05ifz1\\overlay\\Lib\\site-packages\\setuptools\\_distutils\\dist.py:275: UserWarning: Unknown distribution option: 'define_macros'\n",
      "              warnings.warn(msg)\n",
      "            running dist_info\n",
      "            running build_src\n",
      "            build_src\n",
      "            building py_modules sources\n",
      "            creating build\n",
      "            creating build\\src.win-amd64-3.11\n",
      "            creating build\\src.win-amd64-3.11\\numpy\n",
      "            creating build\\src.win-amd64-3.11\\numpy\\distutils\n",
      "            building library \"npymath\" sources\n",
      "            error: Microsoft Visual C++ 14.0 is required. Get it with \"Build Tools for Visual Studio\": https://visualstudio.microsoft.com/downloads/\n",
      "            [end of output]\n",
      "      \n",
      "        note: This error originates from a subprocess, and is likely not a problem with pip.\n",
      "      error: metadata-generation-failed\n",
      "      \n",
      "      × Encountered error while generating package metadata.\n",
      "      ╰─> See above for output.\n",
      "      \n",
      "      note: This is an issue with the package mentioned above, not pip.\n",
      "      hint: See above for details.\n",
      "      [end of output]\n",
      "  \n",
      "  note: This error originates from a subprocess, and is likely not a problem with pip.\n",
      "error: subprocess-exited-with-error\n",
      "\n",
      "× pip subprocess to install build dependencies did not run successfully.\n",
      "│ exit code: 1\n",
      "╰─> See above for output.\n",
      "\n",
      "note: This error originates from a subprocess, and is likely not a problem with pip.\n"
     ]
    },
    {
     "name": "stdout",
     "output_type": "stream",
     "text": [
      "Collecting requests==2.26.0\n",
      "  Downloading requests-2.26.0-py2.py3-none-any.whl (62 kB)\n",
      "                                              0.0/62.3 kB ? eta -:--:--\n",
      "     ------------                           20.5/62.3 kB 640.0 kB/s eta 0:00:01\n",
      "     -------------------------------------- 62.3/62.3 kB 666.8 kB/s eta 0:00:00\n",
      "Collecting urllib3<1.27,>=1.21.1 (from requests==2.26.0)\n",
      "  Downloading urllib3-1.26.17-py2.py3-none-any.whl (143 kB)\n",
      "                                              0.0/143.4 kB ? eta -:--:--\n",
      "     -------------------------------------- 143.4/143.4 kB 4.3 MB/s eta 0:00:00\n",
      "Collecting certifi>=2017.4.17 (from requests==2.26.0)\n",
      "  Downloading certifi-2023.7.22-py3-none-any.whl (158 kB)\n",
      "                                              0.0/158.3 kB ? eta -:--:--\n",
      "     ------------------------------------   153.6/158.3 kB 4.5 MB/s eta 0:00:01\n",
      "     -------------------------------------- 158.3/158.3 kB 4.6 MB/s eta 0:00:00\n",
      "Collecting charset-normalizer~=2.0.0 (from requests==2.26.0)\n",
      "  Downloading charset_normalizer-2.0.12-py3-none-any.whl (39 kB)\n",
      "Requirement already satisfied: idna<4,>=2.5 in c:\\users\\asutos\\anaconda3\\envs\\tuto\\lib\\site-packages (from requests==2.26.0) (3.4)\n",
      "Installing collected packages: urllib3, charset-normalizer, certifi, requests\n",
      "Successfully installed certifi-2023.7.22 charset-normalizer-2.0.12 requests-2.26.0 urllib3-1.26.17\n"
     ]
    }
   ],
   "source": [
    "!pip install pandas==1.3.3 \n",
    "!pip install requests==2.26.0 "
   ]
  },
  {
   "cell_type": "markdown",
   "metadata": {},
   "source": [
    "## Imports\n",
    "\n",
    "Import any additional libraries you may need here.\n"
   ]
  },
  {
   "cell_type": "code",
   "execution_count": 5,
   "metadata": {
    "tags": []
   },
   "outputs": [],
   "source": [
    "import requests\n",
    "import pandas as pd"
   ]
  },
  {
   "cell_type": "markdown",
   "metadata": {},
   "source": [
    "## Extract Data Using an API\n"
   ]
  },
  {
   "cell_type": "markdown",
   "metadata": {},
   "source": [
    "Using ExchangeRate-API we will extract currency exchange rate data. Use the below steps to get the access key and to get the data. \n",
    "1. Open the url : https://exchangeratesapi.io/ and click on **Get Free API Key**. \n",
    "2. Subscribe for Free plan and Sign-in with the Google Account. \n",
    "3. Once the account is created you will be redirected to https://apilayer.com website.\n",
    "2. Now, click on the **user icon** and click **Account** as shown below:\n",
    "\n",
    "<img src=\"https://cf-courses-data.s3.us.cloud-object-storage.appdomain.cloud/IBMDeveloperSkillsNetwork-PY0221EN-SkillsNetwork/labs/module%206/Final%20Assignment/Images/account.png\">\n",
    "\n",
    "3. Scroll down and you will get the API Key section. Copy the API key and use in the url in Question 1.\n"
   ]
  },
  {
   "cell_type": "markdown",
   "metadata": {},
   "source": [
    "### Call the API\n",
    "\n",
    " <b> Question 1</b> Using the `requests` library call the endpoint given above and save the text, remember the first few characters of the output: \n"
   ]
  },
  {
   "cell_type": "code",
   "execution_count": 6,
   "metadata": {
    "tags": []
   },
   "outputs": [],
   "source": [
    "# Write your code here\n",
    "url = \"http://api.exchangeratesapi.io/v1/latest?base=EUR&access_key=b4d2f6ac5a83eb85b5094ab53b9bdcdc\"  #Make sure to change ******* to your API key.\n"
   ]
  },
  {
   "cell_type": "code",
   "execution_count": 7,
   "metadata": {
    "tags": []
   },
   "outputs": [],
   "source": [
    "r=requests.get(url)"
   ]
  },
  {
   "cell_type": "code",
   "execution_count": 8,
   "metadata": {
    "tags": []
   },
   "outputs": [
    {
     "data": {
      "text/plain": [
       "200"
      ]
     },
     "execution_count": 8,
     "metadata": {},
     "output_type": "execute_result"
    }
   ],
   "source": [
    "r.status_code"
   ]
  },
  {
   "cell_type": "markdown",
   "metadata": {},
   "source": [
    "### Save as DataFrame\n",
    "\n",
    " <b> Question 2</b>  Using the data gathered turn it into a `pandas` dataframe. The dataframe should have the Currency as the index and `Rate` as their columns. Make sure to drop unnecessary columns."
   ]
  },
  {
   "cell_type": "code",
   "execution_count": 9,
   "metadata": {
    "tags": []
   },
   "outputs": [
    {
     "data": {
      "text/html": [
       "<div>\n",
       "<style scoped>\n",
       "    .dataframe tbody tr th:only-of-type {\n",
       "        vertical-align: middle;\n",
       "    }\n",
       "\n",
       "    .dataframe tbody tr th {\n",
       "        vertical-align: top;\n",
       "    }\n",
       "\n",
       "    .dataframe thead th {\n",
       "        text-align: right;\n",
       "    }\n",
       "</style>\n",
       "<table border=\"1\" class=\"dataframe\">\n",
       "  <thead>\n",
       "    <tr style=\"text-align: right;\">\n",
       "      <th></th>\n",
       "      <th>success</th>\n",
       "      <th>timestamp</th>\n",
       "      <th>base</th>\n",
       "      <th>date</th>\n",
       "      <th>rates</th>\n",
       "    </tr>\n",
       "  </thead>\n",
       "  <tbody>\n",
       "    <tr>\n",
       "      <th>AED</th>\n",
       "      <td>True</td>\n",
       "      <td>1696359483</td>\n",
       "      <td>EUR</td>\n",
       "      <td>2023-10-03</td>\n",
       "      <td>3.847883</td>\n",
       "    </tr>\n",
       "    <tr>\n",
       "      <th>AFN</th>\n",
       "      <td>True</td>\n",
       "      <td>1696359483</td>\n",
       "      <td>EUR</td>\n",
       "      <td>2023-10-03</td>\n",
       "      <td>81.192464</td>\n",
       "    </tr>\n",
       "    <tr>\n",
       "      <th>ALL</th>\n",
       "      <td>True</td>\n",
       "      <td>1696359483</td>\n",
       "      <td>EUR</td>\n",
       "      <td>2023-10-03</td>\n",
       "      <td>106.071288</td>\n",
       "    </tr>\n",
       "    <tr>\n",
       "      <th>AMD</th>\n",
       "      <td>True</td>\n",
       "      <td>1696359483</td>\n",
       "      <td>EUR</td>\n",
       "      <td>2023-10-03</td>\n",
       "      <td>433.138290</td>\n",
       "    </tr>\n",
       "    <tr>\n",
       "      <th>ANG</th>\n",
       "      <td>True</td>\n",
       "      <td>1696359483</td>\n",
       "      <td>EUR</td>\n",
       "      <td>2023-10-03</td>\n",
       "      <td>1.888486</td>\n",
       "    </tr>\n",
       "  </tbody>\n",
       "</table>\n",
       "</div>"
      ],
      "text/plain": [
       "     success   timestamp base        date       rates\n",
       "AED     True  1696359483  EUR  2023-10-03    3.847883\n",
       "AFN     True  1696359483  EUR  2023-10-03   81.192464\n",
       "ALL     True  1696359483  EUR  2023-10-03  106.071288\n",
       "AMD     True  1696359483  EUR  2023-10-03  433.138290\n",
       "ANG     True  1696359483  EUR  2023-10-03    1.888486"
      ]
     },
     "execution_count": 9,
     "metadata": {},
     "output_type": "execute_result"
    }
   ],
   "source": [
    "# Turn the data into a dataframe\n",
    "df=pd.DataFrame(r.json())\n",
    "df.head()"
   ]
  },
  {
   "cell_type": "code",
   "execution_count": 10,
   "metadata": {
    "tags": []
   },
   "outputs": [
    {
     "data": {
      "text/html": [
       "<div>\n",
       "<style scoped>\n",
       "    .dataframe tbody tr th:only-of-type {\n",
       "        vertical-align: middle;\n",
       "    }\n",
       "\n",
       "    .dataframe tbody tr th {\n",
       "        vertical-align: top;\n",
       "    }\n",
       "\n",
       "    .dataframe thead th {\n",
       "        text-align: right;\n",
       "    }\n",
       "</style>\n",
       "<table border=\"1\" class=\"dataframe\">\n",
       "  <thead>\n",
       "    <tr style=\"text-align: right;\">\n",
       "      <th></th>\n",
       "      <th>rates</th>\n",
       "    </tr>\n",
       "  </thead>\n",
       "  <tbody>\n",
       "    <tr>\n",
       "      <th>AED</th>\n",
       "      <td>3.847883</td>\n",
       "    </tr>\n",
       "    <tr>\n",
       "      <th>AFN</th>\n",
       "      <td>81.192464</td>\n",
       "    </tr>\n",
       "    <tr>\n",
       "      <th>ALL</th>\n",
       "      <td>106.071288</td>\n",
       "    </tr>\n",
       "    <tr>\n",
       "      <th>AMD</th>\n",
       "      <td>433.138290</td>\n",
       "    </tr>\n",
       "    <tr>\n",
       "      <th>ANG</th>\n",
       "      <td>1.888486</td>\n",
       "    </tr>\n",
       "  </tbody>\n",
       "</table>\n",
       "</div>"
      ],
      "text/plain": [
       "          rates\n",
       "AED    3.847883\n",
       "AFN   81.192464\n",
       "ALL  106.071288\n",
       "AMD  433.138290\n",
       "ANG    1.888486"
      ]
     },
     "execution_count": 10,
     "metadata": {},
     "output_type": "execute_result"
    }
   ],
   "source": [
    "# Drop unnescessary columns\n",
    "df.drop(columns=[\"success\", \"timestamp\", \"base\", \"date\"], inplace=True)\n",
    "df.head()"
   ]
  },
  {
   "cell_type": "markdown",
   "metadata": {},
   "source": [
    "### Load the Data\n",
    "\n",
    "Using the dataframe save it as a CSV names `exchange_rates_1.csv`.\n"
   ]
  },
  {
   "cell_type": "code",
   "execution_count": 13,
   "metadata": {},
   "outputs": [],
   "source": [
    "# Save the Dataframe\n",
    "df.to_csv(\"exchange_rates_1.csv\")"
   ]
  },
  {
   "cell_type": "markdown",
   "metadata": {},
   "source": [
    "### Extract"
   ]
  },
  {
   "cell_type": "code",
   "execution_count": 14,
   "metadata": {},
   "outputs": [],
   "source": [
    "def extract_from_csv(file_to_process):\n",
    "    dataframe = pd.read_csv(file_to_process)\n",
    "    return dataframe"
   ]
  },
  {
   "cell_type": "code",
   "execution_count": 19,
   "metadata": {},
   "outputs": [
    {
     "name": "stderr",
     "output_type": "stream",
     "text": [
      "C:\\Users\\Asutos\\AppData\\Local\\Temp\\ipykernel_6824\\950673671.py:2: FutureWarning: The frame.append method is deprecated and will be removed from pandas in a future version. Use pandas.concat instead.\n",
      "  extracted_data = extracted_data.append(extract_from_csv(\"exchange_rates_1.csv\"), ignore_index=True)\n"
     ]
    },
    {
     "data": {
      "text/html": [
       "<div>\n",
       "<style scoped>\n",
       "    .dataframe tbody tr th:only-of-type {\n",
       "        vertical-align: middle;\n",
       "    }\n",
       "\n",
       "    .dataframe tbody tr th {\n",
       "        vertical-align: top;\n",
       "    }\n",
       "\n",
       "    .dataframe thead th {\n",
       "        text-align: right;\n",
       "    }\n",
       "</style>\n",
       "<table border=\"1\" class=\"dataframe\">\n",
       "  <thead>\n",
       "    <tr style=\"text-align: right;\">\n",
       "      <th></th>\n",
       "      <th>Unnamed: 0</th>\n",
       "      <th>rates</th>\n",
       "    </tr>\n",
       "  </thead>\n",
       "  <tbody>\n",
       "    <tr>\n",
       "      <th>0</th>\n",
       "      <td>AED</td>\n",
       "      <td>3.847883</td>\n",
       "    </tr>\n",
       "    <tr>\n",
       "      <th>1</th>\n",
       "      <td>AFN</td>\n",
       "      <td>81.192464</td>\n",
       "    </tr>\n",
       "    <tr>\n",
       "      <th>2</th>\n",
       "      <td>ALL</td>\n",
       "      <td>106.071288</td>\n",
       "    </tr>\n",
       "    <tr>\n",
       "      <th>3</th>\n",
       "      <td>AMD</td>\n",
       "      <td>433.138290</td>\n",
       "    </tr>\n",
       "    <tr>\n",
       "      <th>4</th>\n",
       "      <td>ANG</td>\n",
       "      <td>1.888486</td>\n",
       "    </tr>\n",
       "  </tbody>\n",
       "</table>\n",
       "</div>"
      ],
      "text/plain": [
       "  Unnamed: 0       rates\n",
       "0        AED    3.847883\n",
       "1        AFN   81.192464\n",
       "2        ALL  106.071288\n",
       "3        AMD  433.138290\n",
       "4        ANG    1.888486"
      ]
     },
     "execution_count": 19,
     "metadata": {},
     "output_type": "execute_result"
    }
   ],
   "source": [
    "extracted_data = pd.DataFrame()\n",
    "extracted_data = extracted_data.append(extract_from_csv(\"exchange_rates_1.csv\"), ignore_index=True)\n",
    "extracted_data.head()"
   ]
  },
  {
   "cell_type": "markdown",
   "metadata": {},
   "source": [
    "Your CSV should be in this format with more currencies\n",
    "\n",
    "| | Rates |\n",
    "| ------- | ------- |\n",
    "|  AED| 4.398618    |\n",
    "|  AFN| 92.917693   |  \n",
    "|  ALL| 123.099093  |\n",
    "|  AMD| 621.935674  |\n",
    "|  ANG| 2.149648    | \n"
   ]
  },
  {
   "cell_type": "markdown",
   "metadata": {},
   "source": [
    "## Authors\n"
   ]
  },
  {
   "cell_type": "markdown",
   "metadata": {},
   "source": [
    "Ramesh Sannareddy, Joseph Santarcangelo and Azim Hirjani\n"
   ]
  },
  {
   "cell_type": "markdown",
   "metadata": {},
   "source": [
    "### Other Contributors\n"
   ]
  },
  {
   "cell_type": "markdown",
   "metadata": {},
   "source": [
    "Rav Ahuja\n"
   ]
  },
  {
   "cell_type": "markdown",
   "metadata": {},
   "source": [
    "## Change Log\n"
   ]
  },
  {
   "cell_type": "markdown",
   "metadata": {},
   "source": [
    "| Date (YYYY-MM-DD) | Version | Changed By        | Change Description                 |\n",
    "| ----------------- | ------- | ----------------- | ---------------------------------- |\n",
    "| 2022-05-06        | 0.3     | Malika            | Updated instructions to get the API and the url|\n",
    "| 2021-04-15        | 0.2     | Malika            | Updated the lab from USD to EUR    |\n",
    "| 2020-11-25        | 0.1     | Ramesh Sannareddy | Created initial version of the lab |\n"
   ]
  },
  {
   "cell_type": "markdown",
   "metadata": {},
   "source": [
    " Copyright © 2020 IBM Corporation. This notebook and its source code are released under the terms of the [MIT License](https://cognitiveclass.ai/mit-license?utm_medium=Exinfluencer&utm_source=Exinfluencer&utm_content=000026UJ&utm_term=10006555&utm_id=NA-SkillsNetwork-Channel-SkillsNetworkCoursesIBMDeveloperSkillsNetworkPY0221ENSkillsNetwork899-2023-01-01&cm_mmc=Email_Newsletter-_-Developer_Ed%2BTech-_-WW_WW-_-SkillsNetwork-Courses-IBM-DA0321EN-SkillsNetwork-21426264&cm_mmca1=000026UJ&cm_mmca2=10006555&cm_mmca3=M12345678&cvosrc=email.Newsletter.M12345678&cvo_campaign=000026UJ).\n"
   ]
  }
 ],
 "metadata": {
  "kernelspec": {
   "display_name": "Python 3",
   "language": "python",
   "name": "python3"
  },
  "language_info": {
   "codemirror_mode": {
    "name": "ipython",
    "version": 3
   },
   "file_extension": ".py",
   "mimetype": "text/x-python",
   "name": "python",
   "nbconvert_exporter": "python",
   "pygments_lexer": "ipython3",
   "version": "3.11.3"
  }
 },
 "nbformat": 4,
 "nbformat_minor": 4
}
